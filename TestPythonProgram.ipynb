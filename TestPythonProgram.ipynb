{
  "metadata": {
    "kernelspec": {
      "name": "python",
      "display_name": "Python (Pyodide)",
      "language": "python"
    },
    "language_info": {
      "codemirror_mode": {
        "name": "python",
        "version": 3
      },
      "file_extension": ".py",
      "mimetype": "text/x-python",
      "name": "python",
      "nbconvert_exporter": "python",
      "pygments_lexer": "ipython3",
      "version": "3.8"
    }
  },
  "nbformat_minor": 5,
  "nbformat": 4,
  "cells": [
    {
      "id": "d6141574",
      "cell_type": "markdown",
      "source": "# Pythonを使ったセンサデータ解析\nBME280という気温，湿度，気圧を計測できるセンサから得られた情報を解析してみよう！",
      "metadata": {}
    },
    {
      "id": "085b622c",
      "cell_type": "code",
      "source": "import requests #webデータを操作するためのライブラリ\nimport matplotlib.pyplot as plt\n\nchNum = '1807461' #チャンネル番号\nurl = 'https://api.thingspeak.com/channels/' + chNum + '/feeds.json' #ThingSpeakにアクセスするためのアドレス\npara = {'timezone':'Asia/Tokyo','results':5760} #タイムゾーン,要求データ数の設定\nresponse = requests.get( url, params = para ) #データの要求\n\n#時間，温度をリストに保存\ntimeLis = [] #時間\ntempLis = [] #温度\n\nresponse_list = response.json()['feeds'] #'feeds'のみ取り出し\nfor elm in response_list:\n    timeLis.append( elm['created_at'][11:19] ) #時刻だけ取り出す\n    tempLis.append( float( elm['field2'] ) ) #温度データ\n\nplt.figure() #温度用のグラフを用意\nplt.plot( timeLis, tempLis ) #グラフの表示\nplt.xlabel( 'Time' ) #縦軸のタイトル\nplt.ylabel( 'Temperature[°]' ) #横軸のタイトル\nplt.xticks( [0, 2879, 5759], [timeLis[0], timeLis[2879], timeLis[5759]] ) #横軸の目盛り\nplt.show() #グラフの表示",
      "metadata": {
        "trusted": true
      },
      "outputs": [],
      "execution_count": null
    }
  ]
}