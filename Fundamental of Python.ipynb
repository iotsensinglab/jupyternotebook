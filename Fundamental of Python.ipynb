{
  "cells": [
    {
      "cell_type": "markdown",
      "id": "2c31bb27",
      "metadata": {},
      "source": [
        "# Pythonの基礎\n",
        "この実習では，プログラム言語**Python**の基本的な使い方について学びます。特に\n",
        "- 文字の表示\n",
        "- 変数\n",
        "- 四則演算\n",
        "- for文\n",
        "- if文\n",
        "- リスト\n",
        "- 辞書\n",
        "\n",
        "について，実際に入力しながら使い方に慣れましょう。"
      ]
    },
    {
      "cell_type": "markdown",
      "id": "70effcc3",
      "metadata": {},
      "source": [
        "## 1. 文字の表示\n",
        "文字や数字，計算結果などを表示するための命令に**print関数**があります。<br><br>\n",
        "使い方：print( '文字列' )<br><br>\n",
        "文字列の前後に「'」という記号がありますが，これは**シングルクォーテーション**と言い，<br>\n",
        "キーボードの**Shift+「7」キー**で入力できます。<br>\n",
        "print関数は，シングルクォーテーションで囲まれた文字を出力します。"
      ]
    },
    {
      "cell_type": "code",
      "execution_count": null,
      "id": "b81cc548",
      "metadata": {},
      "outputs": [],
      "source": [
        "#ここにプログラムを記述\n",
        "print( 'Pythonの世界へようこそ！' )"
      ]
    },
    {
      "cell_type": "markdown",
      "id": "f8a9ffa1",
      "metadata": {},
      "source": [
        "## 2.変数の使い方\n",
        "**変数**とは，文字や数字，計算結果を**保存しておくための入れ物**です。<br><br>\n",
        "使い方：変数名 = 値<br><br>\n",
        "左辺に入れ物の名前，左辺に入れたい値を書きます。\n",
        "変数名つけ方は次の決まりがあります。\n",
        "- 小文字，大文字，数字，\\_(アンダーバー)が使えます\n",
        "- 数字は先頭に使えません\n",
        "- 同じ小文字と大文字は別の変数として扱われます\n",
        "\n",
        "変数の中身を表示するときは，先ほど練習したprint関数を使います。"
      ]
    },
    {
      "cell_type": "code",
      "execution_count": null,
      "id": "2b12b068",
      "metadata": {},
      "outputs": [],
      "source": [
        "#ここにプログラムを記述\n",
        "a = 1\n",
        "b = 2\n",
        "print( a )\n",
        "print( b )"
      ]
    },
    {
      "cell_type": "markdown",
      "id": "4db4117b",
      "metadata": {},
      "source": [
        "変数には数字以外にも文字や文字列も入れることができます。<br>\n",
        "その場合は文字列をシングルクォーテーションで囲います<br><br>\n",
        "使い方：変数名 = '文字列'\n",
        "\n",
        "またprint関数は，複数の変数を同時に表示したり，文字列と組み合わせることもできます。<br>\n",
        "複数の変数や文字列を一つのprint関数を使って表示する場合は，**カンマ**「,」(「ね」キー)で区切ります。<br><br>\n",
        "使い方：print( '文字列1', 変数1, '文字列2', 変数2 )"
      ]
    },
    {
      "cell_type": "code",
      "execution_count": null,
      "id": "e442c5a8",
      "metadata": {},
      "outputs": [],
      "source": [
        "#ここにプログラムを記述\n",
        "a = '文字も'\n",
        "b = '変数に'\n",
        "c = '入れることができます'\n",
        "print( a, b, c )"
      ]
    },
    {
      "cell_type": "markdown",
      "id": "985b19e7",
      "metadata": {},
      "source": [
        "## 3.四則演算\n",
        "足し算，引き算，掛け算，割り算ができます。\n",
        "- 足し算：「+」（Shift+「れ」キー)\n",
        "- 引き算：「-」（「ほ」キー)\n",
        "- 掛け算：「\\*(アスタリスク)」（Shift+「け」キー)\n",
        "- 割り算：「/(スラッシュ)」（「め」キー)"
      ]
    },
    {
      "cell_type": "code",
      "execution_count": null,
      "id": "7aa2ddcc",
      "metadata": {},
      "outputs": [],
      "source": [
        "#ここにプログラムを記述\n",
        "a = 3\n",
        "b = 6\n",
        "tasu = a + b\n",
        "hiku = a - b\n",
        "kake = a * b\n",
        "wari = a / b\n",
        "print( '足し算 a+b=', tasu )\n",
        "print( '引き算 a-b=', hiku )\n",
        "print( '掛け算 a×b=', kake )\n",
        "print( '割り算 a÷b=', wari )"
      ]
    },
    {
      "cell_type": "markdown",
      "id": "397d3bc3",
      "metadata": {},
      "source": [
        "文字列は足し算記号で**連結**できます。<br><br>\n",
        "使い方：'文字列1' + '文字列2'"
      ]
    },
    {
      "cell_type": "code",
      "execution_count": null,
      "id": "ffe472a9",
      "metadata": {},
      "outputs": [],
      "source": [
        "#ここにプログラムを記述\n",
        "a = '文字も'\n",
        "b = '足し算'\n",
        "c = 'できます'\n",
        "print( a + b + c )"
      ]
    },
    {
      "cell_type": "markdown",
      "id": "106f2a03",
      "metadata": {},
      "source": [
        "## 4.if文\n",
        "ある処理を**条件ごとに分けたい**ときに使います。<br><br>\n",
        "使い方<br>\n",
        "if 条件式 :<br>\n",
        "　条件式が成立したときの処理<br>\n",
        "else :<br>\n",
        "　条件式が成立しなかったときの処理<br>\n",
        "\n",
        "**条件式**は大なり記号「>」(Shift+「る」キー)，小なり記号「<」(Shift+「ね」キー)，<br>\n",
        "等号「=」(Shift+「ほ」キー)などを組み合わせて作ります。以下にいくつか例を挙げます。<br>\n",
        "\n",
        "- a < b：aはbより小さい\n",
        "- a > b：aはbより大きい\n",
        "- a == b：aとbは等しい\n",
        "\n",
        "条件式やelseの後ろには必ず**コロン**「:」(Shift+「け」キー)を入れます。"
      ]
    },
    {
      "cell_type": "code",
      "execution_count": null,
      "id": "5d31b62a",
      "metadata": {},
      "outputs": [],
      "source": [
        "#ここにプログラムを記述\n",
        "a = 10\n",
        "if a > 0:\n",
        "    print( 'aは0より大きいです' )\n",
        "else:\n",
        "    print( 'aは0より小さいです' )"
      ]
    },
    {
      "cell_type": "markdown",
      "id": "e2f7b6ce",
      "metadata": {},
      "source": [
        "## 5.for文\n",
        "ある処理を**繰り返したい**ときに使います。<br><br>\n",
        "使い方<br>\n",
        "for ループ変数 in 範囲:<br>\n",
        "　処理<br>\n",
        "\n",
        "**範囲**には**range関数**を使います。<br>\n",
        "range関数には**初期値，終了値，増減値**を指定できます。<br>\n",
        "range( 初期値, 終了値, 増減値 )\n",
        "\n",
        "範囲の後ろには必ず**コロン**「:」(Shift+「け」キー)を入れます。"
      ]
    },
    {
      "cell_type": "markdown",
      "id": "c478d879",
      "metadata": {},
      "source": [
        "**使い方1**(数を一つだけ指定すると終了値とみなされ，**初期値は0**，**増減値は1**となります)<br>\n",
        "for i in range( 3 ):・・・変数iの中身は0, 1, 2<br>"
      ]
    },
    {
      "cell_type": "code",
      "execution_count": null,
      "id": "a97ce70b",
      "metadata": {},
      "outputs": [],
      "source": [
        "#ここにプログラムを記述\n",
        "for i in range( 3 ):\n",
        "    print( i )"
      ]
    },
    {
      "cell_type": "markdown",
      "id": "36de0f42",
      "metadata": {},
      "source": [
        "**使い方2**(数を2つ指定すると初期値と終了値とみなされ，**増減値は1**となります)<br>\n",
        "for i in range( 1, 4 ):・・・変数iの中身は1, 2, 3<br>"
      ]
    },
    {
      "cell_type": "code",
      "execution_count": null,
      "id": "844345cc",
      "metadata": {},
      "outputs": [],
      "source": [
        "#ここにプログラムを記述\n",
        "for i in range( 1, 4 ):\n",
        "    print( i )"
      ]
    },
    {
      "cell_type": "markdown",
      "id": "9fff3bee",
      "metadata": {},
      "source": [
        "**使い方3**(数を3つ指定すると初期値,終了値,増減値とみなされます)<br>\n",
        "for i in range( 1, 10, 2 ):・・・変数iの中身は1, 3, 5, 7, 9<br>"
      ]
    },
    {
      "cell_type": "code",
      "execution_count": null,
      "id": "1c9916de",
      "metadata": {},
      "outputs": [],
      "source": [
        "#ここにプログラムを記述\n",
        "for i in range( 1, 10, 2 ):\n",
        "    print( i )"
      ]
    },
    {
      "cell_type": "markdown",
      "id": "e4ad7f06",
      "metadata": {},
      "source": [
        "## 6.リスト\n",
        "１つの変数には１つの数値や文字，文字列しか入れることができません。<br>\n",
        "１つの変数に複数の数値，文字，文字列を入れたいときは，**リスト**を使います。<br>\n",
        "\n",
        "使い方<br>\n",
        "リスト名 = \\[数値1, 数値2, 数値3, ・・・\\]<br>\n",
        "\n",
        "大括弧「 \\[ \\] 」はエンターキーの左となりに配置されています。"
      ]
    },
    {
      "cell_type": "code",
      "execution_count": null,
      "id": "991ee0f0",
      "metadata": {},
      "outputs": [],
      "source": [
        "#ここにプログラムを記述\n",
        "a = [1, 2, 3]\n",
        "print( a )"
      ]
    },
    {
      "cell_type": "markdown",
      "id": "be9ee5c8",
      "metadata": {},
      "source": [
        "リストに数値を後から追加するためには**append()**を使います。<br>\n",
        "\n",
        "使い方<br>\n",
        "リスト名.append( 数値 )<br>\n",
        "\n",
        "リスト名の後ろに**ピリオド**「.」(「る」キー)を入れ，続けてappend()と書きます。"
      ]
    },
    {
      "cell_type": "code",
      "execution_count": null,
      "id": "4612b931",
      "metadata": {},
      "outputs": [],
      "source": [
        "#ここにプログラムを記述\n",
        "b = []\n",
        "b.append( 4 )\n",
        "b.append( 5 )\n",
        "b.append( 6 )\n",
        "print( b )"
      ]
    },
    {
      "cell_type": "markdown",
      "id": "f9d9ce5d",
      "metadata": {},
      "source": [
        "リストの内容を指定する方法について説明します。<br>\n",
        "例えばa=\\[5,9,2,8\\]というリストを作ったとします。<br>\n",
        "\n",
        "|番号| 0 | 1 | 2 | 3 |\n",
        "|----|---|---|---|---|\n",
        "|数値| 5 | 9 | 2 | 8 |\n",
        "\n",
        "リストに入れた数値ごとに**0から始める番号**が自動的に割り振られます。<br>\n",
        "例えば**番号0**の数値を指定するためには，a\\[0\\]と書きます。"
      ]
    },
    {
      "cell_type": "code",
      "execution_count": null,
      "id": "5414c0d2",
      "metadata": {},
      "outputs": [],
      "source": [
        "#ここにプログラムを記述\n",
        "a = [5, 9, 2, 8]\n",
        "print( a[0], a[1], a[2], a[3] )"
      ]
    },
    {
      "cell_type": "markdown",
      "id": "db0d19d7",
      "metadata": {},
      "source": [
        "for文を使ってリストの内容を表示する方法もあります。"
      ]
    },
    {
      "cell_type": "code",
      "execution_count": null,
      "id": "b83b12e3",
      "metadata": {},
      "outputs": [],
      "source": [
        "#ここにプログラムを記述\n",
        "for i in range( 4 ):\n",
        "    print( a[i] )"
      ]
    },
    {
      "cell_type": "markdown",
      "id": "df3cb637",
      "metadata": {},
      "source": [
        "## 7.辞書\n",
        "リストはそれぞれの数値に対して0から始まる番号が割り振られていました。<br>\n",
        "**辞書**を使うと，番号の代わりに**任意の数字や文字，文字列**を使うことができます。<br>\n",
        "\n",
        "使い方<br>\n",
        "辞書名 = \\{ 'キー1':数値1, 'キー2':数値2, ・・・ \\}<br>\n",
        "\n",
        "リストとは異なり中括弧「\\{\\}」でキーと数値を囲みます。<br>\n",
        "それでは，野菜の名前と値段を組み合わせた辞書を作ってみましょう。"
      ]
    },
    {
      "cell_type": "code",
      "execution_count": null,
      "id": "631db5aa",
      "metadata": {},
      "outputs": [],
      "source": [
        "#ここにプログラムを記述\n",
        "vege = { 'きゅうり':200, 'しゃがいも':100, '人参':200, 'トマト':150 }\n",
        "print( vege )"
      ]
    },
    {
      "cell_type": "markdown",
      "id": "623a7410",
      "metadata": {},
      "source": [
        "辞書に後から追加する場合は**update()**を使います。<br>\n",
        "\n",
        "使い方<br>\n",
        "辞書名.update( { 'キー':数値 } )"
      ]
    },
    {
      "cell_type": "code",
      "execution_count": null,
      "id": "1d5f3080",
      "metadata": {},
      "outputs": [],
      "source": [
        "#ここにプログラムを記述\n",
        "vege.update( {'なす':120} )\n",
        "print( vege )"
      ]
    },
    {
      "cell_type": "markdown",
      "id": "ceca985d",
      "metadata": {},
      "source": [
        "特定のキーの数値を取り出すためには，**辞書名\\['キー名'\\]**と書きます。<br>\n",
        "vegeに格納された数値は以下のような表をイメージします。<br>\n",
        "\n",
        "|キー| きゅうり | じゃがいも | 人参 | トマト | なす |\n",
        "|:--:|:--------:|:----------:|:----:|:------:|:----:|\n",
        "|数値|   200    |     100    |  200 |   150  |  120 |\n",
        "\n",
        "例えば「きゅうり」の数値を取り出すためには，vege\\['きゅうり'\\]と書きます。"
      ]
    },
    {
      "cell_type": "code",
      "execution_count": null,
      "id": "577ef7a9",
      "metadata": {},
      "outputs": [],
      "source": [
        "#ここにプログラムを記述\n",
        "print( vege['きゅうり'], vege['トマト'] )"
      ]
    },
    {
      "cell_type": "markdown",
      "id": "97d94ce2",
      "metadata": {},
      "source": [
        "これまでは１つのキーに対して数値や文字を対応させていましたが，<br>\n",
        "**１つのキーに対して新たな辞書を対応**させることもできます。<br>\n",
        "\n",
        "使い方<br>\n",
        "辞書名 = \\{ 'キーA':\\{ 'キー1':数値1, 'キー2':'数値2', ・・・ \\}, 'キーB':\\{ 'キー3':数値3, 'キー4':数値4, ・・・ \\}, ・・・ \\}\n",
        "\n",
        "少し複雑なので，例としてあるお店で売られている**野菜の種類とその値段**，<br>\n",
        "**果物の種類とその値段**を管理するための辞書を作ってみましょう。"
      ]
    },
    {
      "cell_type": "code",
      "execution_count": 1,
      "id": "8419cacd",
      "metadata": {},
      "outputs": [
        {
          "name": "stdout",
          "output_type": "stream",
          "text": [
            "{'野菜': {'きゅうり': 200, 'しゃがいも': 100}, '果物': {'なし': 200, 'もも': 300}}\n"
          ]
        }
      ],
      "source": [
        "#ここにプログラムを記述\n",
        "store1 = { '野菜':{'きゅうり': 200, 'しゃがいも': 100}, '果物':{'なし': 200, 'もも': 300} }\n",
        "print( store1 )"
      ]
    },
    {
      "cell_type": "markdown",
      "id": "493cd2e4",
      "metadata": {},
      "source": [
        "特定のキーの値を取り出すためには先ほどと同様に，辞書名\\['キー名'\\]と書きます。"
      ]
    },
    {
      "cell_type": "code",
      "execution_count": 2,
      "id": "733a4db9",
      "metadata": {},
      "outputs": [
        {
          "name": "stdout",
          "output_type": "stream",
          "text": [
            "{'きゅうり': 200, 'しゃがいも': 100}\n"
          ]
        }
      ],
      "source": [
        "#ここにプログラムを記述\n",
        "print( store1['野菜'] )"
      ]
    },
    {
      "cell_type": "markdown",
      "id": "4a915dd6",
      "metadata": {},
      "source": [
        "野菜が取り出せたと思います。さらに「きゅうり」の値段を取り出すためには<br>\n",
        "辞書名\\['野菜'\\]\\['きゅうり'\\]とキーを続けて書きます。"
      ]
    },
    {
      "cell_type": "code",
      "execution_count": null,
      "id": "8e4a5065",
      "metadata": {},
      "outputs": [],
      "source": [
        "#ここにプログラムを記述\n",
        "print( store1['野菜']['きゅうり'] )"
      ]
    },
    {
      "cell_type": "markdown",
      "id": "ed9b0386",
      "metadata": {},
      "source": [
        "辞書で作ったデータをリストに入れて管理することができます。<br>\n",
        "別の店の野菜と果物の値段をstore2として，store1とstore2をリストstoresに入れてみましょう。"
      ]
    },
    {
      "cell_type": "code",
      "execution_count": 3,
      "id": "04d83dc0",
      "metadata": {},
      "outputs": [
        {
          "name": "stdout",
          "output_type": "stream",
          "text": [
            "[{'野菜': {'きゅうり': 200, 'しゃがいも': 100}, '果物': {'なし': 200, 'もも': 300}}, {'野菜': {'きゅうり': 100, 'しゃがいも': 200}, '果物': {'なし': 100, 'もも': 400}}]\n"
          ]
        }
      ],
      "source": [
        "#ここにプログラムを記述\n",
        "store2 = { '野菜':{'きゅうり': 100, 'しゃがいも': 200}, '果物':{'なし': 100, 'もも': 400} }\n",
        "stores = [ store1, store2 ]\n",
        "print( stores )"
      ]
    },
    {
      "cell_type": "raw",
      "id": "c82cafb9",
      "metadata": {},
      "source": [
        "store1の「なし」の「値段」を取り出すためには，次のように記述します。"
      ]
    },
    {
      "cell_type": "code",
      "execution_count": null,
      "id": "97eafe36",
      "metadata": {},
      "outputs": [],
      "source": [
        "#ここにプログラムを記述\n",
        "print( stores[0]['果物']['なし'] )"
      ]
    }
  ],
  "metadata": {
    "kernelspec": {
      "display_name": "Python 3 (ipykernel)",
      "language": "python",
      "name": "python3"
    },
    "language_info": {
      "codemirror_mode": {
        "name": "ipython",
        "version": 3
      },
      "file_extension": ".py",
      "mimetype": "text/x-python",
      "name": "python",
      "nbconvert_exporter": "python",
      "pygments_lexer": "ipython3",
      "version": "3.9.12"
    }
  },
  "nbformat": 4,
  "nbformat_minor": 5
}