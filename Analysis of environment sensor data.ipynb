{
  "metadata": {
    "kernelspec": {
      "name": "python",
      "display_name": "Python (Pyodide)",
      "language": "python"
    },
    "language_info": {
      "codemirror_mode": {
        "name": "python",
        "version": 3
      },
      "file_extension": ".py",
      "mimetype": "text/x-python",
      "name": "python",
      "nbconvert_exporter": "python",
      "pygments_lexer": "ipython3",
      "version": "3.8"
    }
  },
  "nbformat_minor": 5,
  "nbformat": 4,
  "cells": [
    {
      "id": "d6141574",
      "cell_type": "markdown",
      "source": "# Pythonを使ったセンサデータ解析\nBME280という気温，湿度，気圧を計測できるセンサから得られた情報を解析してみよう！",
      "metadata": {}
    },
    {
      "id": "b296ab6e",
      "cell_type": "markdown",
      "source": "---\n## はじめに：jupyter notebookを使ってプログラムを書いてみよう！\njupyter notebookは，**セル**と呼ばれる枠の中にプログラムを記述し，実行させることができます。<br>\n下の空欄にprint('Hello Python')と入力し，**Run**ボタン(もしくはShift+Enter)を押しましょう。",
      "metadata": {}
    },
    {
      "id": "810f9a98",
      "cell_type": "code",
      "source": "#ここにプログラムを記述\n",
      "metadata": {
        "trusted": true
      },
      "outputs": [],
      "execution_count": null
    },
    {
      "id": "d7839617",
      "cell_type": "markdown",
      "source": "プログラムは様々な計算をすることができます。以下のプログラムを記述し実行してみましょう。<br>\nvar1 = 9<br>\nvar2 = 17<br>\nadd = var1 + var2<br>\nprint( '足し算の結果は', add, 'です' )",
      "metadata": {}
    },
    {
      "id": "c3e02905-2e19-4267-8ca1-ab78e796569f",
      "cell_type": "code",
      "source": "#ここにプログラムを記述\n",
      "metadata": {
        "trusted": true
      },
      "outputs": [],
      "execution_count": null
    },
    {
      "id": "7b7e15b6-1eef-4905-9d28-45a10a90ff55",
      "cell_type": "markdown",
      "source": "var1やvar2，addは**変数**と呼ばれ，数値やデータ，計算結果などを保存できます。<br>\n変数はjupyter notebookを終了しない限り消えません。また，notebook内ではどこでも使うことができます。<br>\n続けて次のプログラムを記述して実行してみましょう。<br>\nsub = add - var1<br>\nmul = sub * 5<br>\ndiv = var1 / mul<br>\nprint('引き算{sub} 掛け算{mul} 割り算{div}')",
      "metadata": {}
    },
    {
      "id": "b820d8d5-2a5e-4eae-8024-4f6bc20402e3",
      "cell_type": "code",
      "source": "#ここにプログラムを記述\n",
      "metadata": {
        "trusted": true
      },
      "outputs": [],
      "execution_count": null
    },
    {
      "id": "47c3c671-e8f1-41a4-8eea-be8a464f2044",
      "cell_type": "markdown",
      "source": "引き算は「ー」，掛け算は「＊」，割り算は「／」記号を使います。Pythonにはほかにも様々な計算をすることができます。",
      "metadata": {}
    },
    {
      "id": "678c9d99",
      "cell_type": "markdown",
      "source": "---\n## 1.ThingSpeakからセンサデータを取得\nセル内のプログラムを実行し、ThingSpeakからデータをダウンロードします。<br>\n**<Response [200]>**と表示されると、ダウンロード成功です。",
      "metadata": {}
    },
    {
      "id": "085b622c",
      "cell_type": "code",
      "source": "import requests #webデータを操作するためのライブラリ\nchNum = '1807461' #チャンネル番号\nurl = 'https://api.thingspeak.com/channels/' + chNum + '/feeds.json' #ThingSpeakにアクセスするためのアドレス\npara = {'timezone':'Asia/Tokyo','results':1} #タイムゾーン,要求データ数の設定\nresponse = requests.get( url, params = para ) #データの要求\nprint( response ) #結果の表示",
      "metadata": {
        "trusted": true
      },
      "outputs": [],
      "execution_count": null
    },
    {
      "id": "1fca4c50-ae87-4c9e-990f-b9bc1470784c",
      "cell_type": "markdown",
      "source": "取得できたデータの中身を見てみます。次のセルに書かれたプログラムを実行してみましょう。",
      "metadata": {}
    },
    {
      "id": "fbb4c94d-d488-4d76-ab77-baaac5b6edad",
      "cell_type": "code",
      "source": "import pprint #辞書型を見やすく表示するためのライブラリ\nresponse_list = response.json() #取得したデータをjson形式に変換\npprint.pprint( response_list )",
      "metadata": {
        "trusted": true,
        "scrolled": true
      },
      "outputs": [],
      "execution_count": null
    },
    {
      "id": "bc3dc92a-6150-44a6-8414-99a172cc4013",
      "cell_type": "markdown",
      "source": "変数response_listにデータが保存されますが，'feeds'の中に計測された時刻やセンサデータが含まれています。<br>\n次のプログラムを実行して，'feeds'だけ取り出してみます。",
      "metadata": {}
    },
    {
      "id": "a5d6a1f8",
      "cell_type": "code",
      "source": "response_list = response_list['feeds'] #'feeds'のみ取り出し\npprint.pprint( response_list )",
      "metadata": {
        "trusted": true
      },
      "outputs": [],
      "execution_count": null
    },
    {
      "id": "13869287",
      "cell_type": "markdown",
      "source": "---\n## 2.センサデータの取り出しと活用\nrespons_listに保存されている時刻，気圧，温度，湿度のデータを，time，pres，temp，humiの4つの変数に保存してみましょう。<br>\n次のプログラムを入力し，実行してみてください。<br>\ntime = response_list[0]['created_at'][11:19]<br>\npres = float( response_list[0]['field1'] )<br>\ntemp = float( response_list[0]['field2'] )<br>\nhumi = float( response_list[0]['field3'] )<br>\nprint( time, pres, temp, humi )",
      "metadata": {}
    },
    {
      "id": "94d4bd81",
      "cell_type": "code",
      "source": "#ここにプログラムを記述\n",
      "metadata": {
        "trusted": true
      },
      "outputs": [],
      "execution_count": null
    },
    {
      "id": "92a49439-42df-4f9f-859e-59e62ca69099",
      "cell_type": "markdown",
      "source": "それでは，センサデータを活用してみましょう。ここでは現在の気温と湿度から不快指数を計算してみます。<br>\nまた，計算した結果から不快度を言葉で表現するプログラムを作ってみましょう。<br>\n日本における不快指数は以下の式で表現されます。<br>\n\n不快指数 = 0.81 × 気温 + 0.01 × 湿度 ×（ 0.99 × 温度 - 14.3 ) + 46.3<br>\n\n|不快指数　　|体感                        |\n|:----------:|:--------------------------:|\n|50未満      | 寒くてたまらない           |\n|50以上55未満| 寒い                       |\n|55以上60未満| 肌寒い                     |\n|60以上65未満| 何も感じない               |\n|65以上70未満| 快適                       |\n|70以上75未満| 暑くない                   |\n|75以上80未満| やや暑い                   |\n|80以上85未満| 暑くて汗が出る             |\n|85以上      | 暑くてたまらない           |\n\n不快指数目安|オリオン機械株式会社,\"https://www.orionkikai.co.jp/technology/pap/temperature-humidity/\",閲覧日:2025/08/28\n",
      "metadata": {}
    },
    {
      "id": "84751508-aea1-4d6b-a85c-73eb86e1b69b",
      "cell_type": "code",
      "source": "#不快指数の計算\nthi = #不快指数の式をプログラムしてみましょう\nprint( '時間：', time, '気温：', temp, '[℃] 湿度：', humi, '[%] 不快指数：', thi )\n\n#体感の判別\nif thi < 50:\n    print( '寒くてたまらない' )\nelif thi < 55:\n    print( '' )　#''の中に体感を表す言葉を記入してみよう\nelif thi < 60:\n    print( '' )　#''の中に体感を表す言葉を記入してみよう\nelif thi < 65:\n    print( '' )　#''の中に体感を表す言葉を記入してみよう\nelif thi < 70:\n    print( '' )　#''の中に体感を表す言葉を記入してみよう\nelif thi < 75:\n    print( '' )　#''の中に体感を表す言葉を記入してみよう\nelif thi < 80:\n    print( '' )　#''の中に体感を表す言葉を記入してみよう\nelif thi < 85:\n    print( '' )　#''の中に体感を表す言葉を記入してみよう\nelse:\n    print( '' )　#''の中に体感を表す言葉を記入してみよう",
      "metadata": {
        "trusted": true
      },
      "outputs": [],
      "execution_count": null
    },
    {
      "id": "8ac2d7b2-28ff-453b-8a3f-8c9637c27c89",
      "cell_type": "markdown",
      "source": "if ・・・ elif ・・・を使うと，条件ごとにプログラムの内容を変えることができます。",
      "metadata": {}
    },
    {
      "id": "251cd9c1",
      "cell_type": "markdown",
      "source": "---\n## 3.センサデータをグラフに表示\n1日分のセンサデータを取得し，そのデータをグラフ化することで，変化の様子を可視化してみましょう。<br>\n15秒おきに計測しデータを送信しているので，1日分のデータ数は4データ×60分×24時間=5760データになります。<br>\n次のプログラムを実行し，1日分のデータを取得してみましょう。",
      "metadata": {}
    },
    {
      "id": "ed30182b-0046-43fb-8304-91b968803c94",
      "cell_type": "code",
      "source": "#1日分のセンサデータを要求\npara = {'timezone':'Asia/Tokyo','results':5760} #タイムゾーン,要求データ数の設定\nresponse = requests.get( url, params = para ) #データの要求\nprint( response ) #結果の表示",
      "metadata": {
        "trusted": true
      },
      "outputs": [],
      "execution_count": null
    },
    {
      "id": "b67d1c65-bf71-467f-9dc1-ca68cde90e2c",
      "cell_type": "markdown",
      "source": "次に，時刻，気圧，温度，湿度のデータを扱いやすくするためにリストに保存します。<br>\n次のプログラムを実行してみてください。",
      "metadata": {}
    },
    {
      "id": "dd501f5f",
      "cell_type": "code",
      "source": "#時間，気圧，温度，湿度をリストに保存\ntimeLis = [] #時間\npresLis = [] #気圧\ntempLis = [] #温度\nhumiLis = [] #湿度\n\nresponse_list = response.json()['feeds'] #'feeds'のみ取り出し\nfor elm in response_list:\n    timeLis.append( elm['created_at'][11:19] ) #時刻だけ取り出す\n    presLis.append( float( elm['field1'] ) ) #気圧データ\n    tempLis.append( float( elm['field2'] ) ) #温度データ\n    humiLis.append( float( elm['field3'] ) ) #湿度データ",
      "metadata": {
        "trusted": true
      },
      "outputs": [],
      "execution_count": null
    },
    {
      "id": "9c96e36d-ed2f-4f2e-9935-5602b20e5bb1",
      "cell_type": "code",
      "source": "#データの確認\nprint( timeLis[5759], presLis[5759], tempLis[5759], humiLis[5759] )",
      "metadata": {
        "trusted": true
      },
      "outputs": [],
      "execution_count": null
    },
    {
      "id": "491488a7",
      "cell_type": "code",
      "source": "#グラフの表示\nimport matplotlib.pyplot as plt\nplt.figure() #温度用のグラフを用意\nplt.plot( timeLis, tempLis ) #グラフの表示\nplt.xlabel( 'Time' ) #縦軸のタイトル\nplt.ylabel( 'Temperature[°]' ) #横軸のタイトル\nplt.xticks( [0, 2879, 5759], [timeLis[0], timeLis[2879], timeLis[5759]] ) #横軸の目盛り\nplt.show() #グラフの表示",
      "metadata": {
        "trusted": true
      },
      "outputs": [],
      "execution_count": null
    },
    {
      "id": "ad27e496-bff2-47f9-be6d-632bc0558211",
      "cell_type": "code",
      "source": "",
      "metadata": {
        "trusted": true
      },
      "outputs": [],
      "execution_count": null
    }
  ]
}