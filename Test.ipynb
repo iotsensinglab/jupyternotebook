{
  "metadata": {
    "kernelspec": {
      "name": "python",
      "display_name": "Python (Pyodide)",
      "language": "python"
    },
    "language_info": {
      "codemirror_mode": {
        "name": "python",
        "version": 3
      },
      "file_extension": ".py",
      "mimetype": "text/x-python",
      "name": "python",
      "nbconvert_exporter": "python",
      "pygments_lexer": "ipython3",
      "version": "3.8"
    }
  },
  "nbformat_minor": 5,
  "nbformat": 4,
  "cells": [
    {
      "id": "d6141574",
      "cell_type": "markdown",
      "source": "# Pythonを使ったセンサデータ解析\nテストプログラムです。気温に関するグラフが表示されたら、動作確認完了です。",
      "metadata": {}
    },
    {
      "id": "ed30182b-0046-43fb-8304-91b968803c94",
      "cell_type": "code",
      "source": "import requests\nimport matplotlib.pyplot as plt\n\nchNum = '1807461' #チャンネル番号\nurl = 'https://api.thingspeak.com/channels/' + chNum + '/feeds.json' #ThingSpeakにアクセスするためのアドレス\npara = {'timezone':'Asia/Tokyo','results':120} #タイムゾーン,要求データ数の設定\nresponse = requests.get( url, params = para ) #データの要求\n\ntimeLis = [] #時間\ntempLis = [] #温度\nresList = response.json()['feeds'] #'feeds'のみ取り出し\nfor elm in resList:\n    timeLis.append( elm['created_at'][11:19] ) #時刻だけ取り出す\n    tempLis.append( float( elm['field2'] ) ) #温度データ\n\nplt.figure() #温度用のグラフを用意\nplt.plot( timeLis, tempLis ) #グラフの表示\nplt.xlabel( 'Time' ) #横軸のタイトル\nplt.ylabel( 'Temperature[℃]' ) #縦軸のタイトル\nplt.xticks( [0, 59, 119], [timeLis[0], timeLis[59], timeLis[119]] ) #横軸の目盛り\nplt.show() #グラフの表示",
      "metadata": {
        "trusted": true
      },
      "outputs": [],
      "execution_count": null
    },
    {
      "id": "081e24b4-3a73-4a2e-b994-b6916d1790a4",
      "cell_type": "code",
      "source": "",
      "metadata": {
        "trusted": true
      },
      "outputs": [],
      "execution_count": null
    }
  ]
}